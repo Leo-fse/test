{
 "cells": [
  {
   "cell_type": "code",
   "execution_count": 5,
   "metadata": {},
   "outputs": [
    {
     "name": "stdout",
     "output_type": "stream",
     "text": [
      "[[1, 2, 3], [4, 5, 6], [7, 8, None]]\n",
      "[[1, 4, 7], [2, 5, 8], [3, 6, None]]\n"
     ]
    }
   ],
   "source": [
    "def reshape_list(input_list: list, nrows: int, ncols: int, mode: str):\n",
    "    \"\"\"\n",
    "    指定されたリストを指定された行数と列数に基づいて変形します。\n",
    "    入力リストの要素が不足している場合は、Noneで埋めます。\n",
    "\n",
    "    Args:\n",
    "        input_list (list): 変形対象のリスト。\n",
    "        nrows (int): 出力リストの行数。\n",
    "        ncols (int): 出力リストの列数。\n",
    "        mode (str): リストの変形モード ('col' または 'row')。\n",
    "\n",
    "    Returns:\n",
    "        list: 指定された行数と列数に変形されたリスト。\n",
    "\n",
    "    Raises:\n",
    "        ValueError: modeが'col'または'row'以外の場合。\n",
    "\n",
    "    Examples:\n",
    "        >>> l_list = [1, 2, 3, 4, 5, 6, 7, 8]\n",
    "        >>> nrows, ncols = 3, 3\n",
    "        >>> reshape_list(l_list, nrows, ncols, mode='col')\n",
    "        [[1, 2, 3], [4, 5, 6], [7, 8, None]]\n",
    "        >>> reshape_list(l_list, nrows, ncols, mode='row')\n",
    "        [[1, 4, 7], [2, 5, 8], [3, 6, None]]\n",
    "    \"\"\"\n",
    "    total_elements = nrows * ncols\n",
    "    if len(input_list) < total_elements:\n",
    "        input_list += [None] * (total_elements - len(input_list))\n",
    "\n",
    "    if mode == \"col\":\n",
    "        result = [input_list[i * ncols : (i + 1) * ncols] for i in range(nrows)]\n",
    "    elif mode == \"row\":\n",
    "        result = [[input_list[row + col * nrows] for col in range(ncols)] for row in range(nrows)]\n",
    "    else:\n",
    "        raise ValueError(\"modeは'col'または'row'のいずれかである必要があります。\")\n",
    "\n",
    "    return result\n",
    "\n",
    "\n",
    "# 使用例\n",
    "l_list = [1, 2, 3, 4, 5, 6, 7, 8]\n",
    "nrows, ncols = 3, 3\n",
    "print(reshape_list(l_list, nrows, ncols, mode=\"col\"))  # [[1, 2, 3], [4, 5, 6], [7, 8, None]]\n",
    "print(reshape_list(l_list, nrows, ncols, mode=\"row\"))  # [[1, 4, 7], [2, 5, 8], [3, 6, None]]\n"
   ]
  },
  {
   "cell_type": "code",
   "execution_count": null,
   "metadata": {},
   "outputs": [],
   "source": []
  }
 ],
 "metadata": {
  "kernelspec": {
   "display_name": ".venv",
   "language": "python",
   "name": "python3"
  },
  "language_info": {
   "codemirror_mode": {
    "name": "ipython",
    "version": 3
   },
   "file_extension": ".py",
   "mimetype": "text/x-python",
   "name": "python",
   "nbconvert_exporter": "python",
   "pygments_lexer": "ipython3",
   "version": "3.11.9"
  }
 },
 "nbformat": 4,
 "nbformat_minor": 2
}
